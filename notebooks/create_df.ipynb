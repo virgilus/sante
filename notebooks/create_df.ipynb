{
 "cells": [
  {
   "cell_type": "markdown",
   "metadata": {},
   "source": [
    "### Création du DF"
   ]
  },
  {
   "cell_type": "code",
   "execution_count": 97,
   "metadata": {},
   "outputs": [],
   "source": [
    "import zipfile\n",
    "import os\n",
    "import pandas as pd"
   ]
  },
  {
   "cell_type": "code",
   "execution_count": 98,
   "metadata": {},
   "outputs": [],
   "source": [
    "#Global Variables\n",
    "PERSON_ACTIVITY_FILE = 'PS_LibreAcces_Personne_activite'\n",
    "FILES_LIST = [\"ExtractionMonoTable_CAT18_ToutePopulation\",\"PS_LibreAcces\"]\n",
    "# Directory to download files :\n",
    "LOCAL_DIR = \"../data/external/\""
   ]
  },
  {
   "cell_type": "code",
   "execution_count": 99,
   "metadata": {},
   "outputs": [],
   "source": [
    "# create a list of .zip in repertory\n",
    "zipfiles_list = []\n",
    "for file in os.listdir(LOCAL_DIR): \n",
    "    if file.endswith('.zip'):\n",
    "        zipfiles_list.append(file)"
   ]
  },
  {
   "cell_type": "code",
   "execution_count": 95,
   "metadata": {},
   "outputs": [],
   "source": [
    "for file in zipfiles_list:\n",
    "    if \"PS_LibreAcces\" in file:\n",
    "        with zipfile.ZipFile(os.path.join(LOCAL_DIR,file)) as zip_f:\n",
    "            for name in zip_f.namelist():\n",
    "                if PERSON_ACTIVITY_FILE in name:\n",
    "                    person_activity_df = pd.read_csv(zip_f.open(name),\n",
    "                                                           sep='|', \n",
    "                                                           header='infer',\n",
    "                                                           dtype='str',\n",
    "                                                           nrows=1000,\n",
    "                                                           encoding='UTF-8',)\n"
   ]
  },
  {
   "cell_type": "code",
   "execution_count": 96,
   "metadata": {},
   "outputs": [
    {
     "data": {
      "text/plain": [
       "Index(['Type d'identifiant PP', 'Identifiant PP',\n",
       "       'Identification nationale PP', 'Code civilité d'exercice',\n",
       "       'Libellé civilité d'exercice', 'Code civilité', 'Libellé civilité',\n",
       "       'Nom d'exercice', 'Prénom d'exercice', 'Code profession',\n",
       "       'Libellé profession', 'Code catégorie professionnelle',\n",
       "       'Libellé catégorie professionnelle', 'Code type savoir-faire',\n",
       "       'Libellé type savoir-faire', 'Code savoir-faire',\n",
       "       'Libellé savoir-faire', 'Code mode exercice', 'Libellé mode exercice',\n",
       "       'Numéro SIRET site', 'Numéro SIREN site', 'Numéro FINESS site',\n",
       "       'Numéro FINESS établissement juridique',\n",
       "       'Identifiant technique de la structure', 'Raison sociale site',\n",
       "       'Enseigne commerciale site',\n",
       "       'Complément destinataire (coord. structure)',\n",
       "       'Complément point géographique (coord. structure)',\n",
       "       'Numéro Voie (coord. structure)',\n",
       "       'Indice répétition voie (coord. structure)',\n",
       "       'Code type de voie (coord. structure)',\n",
       "       'Libellé type de voie (coord. structure)',\n",
       "       'Libellé Voie (coord. structure)',\n",
       "       'Mention distribution (coord. structure)',\n",
       "       'Bureau cedex (coord. structure)', 'Code postal (coord. structure)',\n",
       "       'Code commune (coord. structure)', 'Libellé commune (coord. structure)',\n",
       "       'Code pays (coord. structure)', 'Libellé pays (coord. structure)',\n",
       "       'Téléphone (coord. structure)', 'Téléphone 2 (coord. structure)',\n",
       "       'Télécopie (coord. structure)', 'Adresse e-mail (coord. structure)',\n",
       "       'Code Département (structure)', 'Libellé Département (structure)',\n",
       "       'Ancien identifiant de la structure', 'Autorité d'enregistrement',\n",
       "       'Code secteur d'activité', 'Libellé secteur d'activité',\n",
       "       'Code section tableau pharmaciens',\n",
       "       'Libellé section tableau pharmaciens', 'Unnamed: 52'],\n",
       "      dtype='object')"
      ]
     },
     "execution_count": 96,
     "metadata": {},
     "output_type": "execute_result"
    }
   ],
   "source": [
    "person_activity_df.columns"
   ]
  },
  {
   "cell_type": "code",
   "execution_count": 79,
   "metadata": {},
   "outputs": [
    {
     "name": "stdout",
     "output_type": "stream",
     "text": [
      "Variable               Type          Data/Info\n",
      "----------------------------------------------\n",
      "FILES_LIST             list          n=2\n",
      "LOCAL_DIR              str           ../data/external/\n",
      "PERSON_ACTIVITY_FILE   str           PS_LibreAcces_Personne_activite\n",
      "chaine                 str           chose\n",
      "f                      ZipExtFile    <zipfile.ZipExtFile [closed]>\n",
      "file                   str           PS_LibreAcces.zip\n",
      "machin                 str           chose\n",
      "name                   str           PS_LibreAcces_SavoirFaire_201905020834.txt\n",
      "os                     module        <module 'os' from 'C:\\\\Us<...>\\\\anaconda3\\\\lib\\\\os.py'>\n",
      "pd                     module        <module 'pandas' from 'C:<...>es\\\\pandas\\\\__init__.py'>\n",
      "person_activity_df     DataFrame             Type d'identifian<...>717732 rows x 53 columns]\n",
      "toto                   list          n=3\n",
      "z                      ZipFile       <zipfile.ZipFile [closed]>\n",
      "zip_f                  ZipFile       <zipfile.ZipFile [closed]>\n",
      "zipfile                module        <module 'zipfile' from 'C<...>conda3\\\\lib\\\\zipfile.py'>\n",
      "zipfiles_list          list          n=2\n"
     ]
    }
   ],
   "source": [
    "%whos"
   ]
  },
  {
   "cell_type": "code",
   "execution_count": null,
   "metadata": {},
   "outputs": [],
   "source": []
  }
 ],
 "metadata": {
  "kernelspec": {
   "display_name": "Python 3",
   "language": "python",
   "name": "python3"
  },
  "language_info": {
   "codemirror_mode": {
    "name": "ipython",
    "version": 3
   },
   "file_extension": ".py",
   "mimetype": "text/x-python",
   "name": "python",
   "nbconvert_exporter": "python",
   "pygments_lexer": "ipython3",
   "version": "3.7.3"
  }
 },
 "nbformat": 4,
 "nbformat_minor": 2
}
