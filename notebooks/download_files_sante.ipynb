{
 "cells": [
  {
   "cell_type": "markdown",
   "metadata": {},
   "source": [
    "### Download files"
   ]
  },
  {
   "cell_type": "code",
   "execution_count": 1,
   "metadata": {},
   "outputs": [],
   "source": [
    "import requests\n",
    "import re\n",
    "import os\n",
    "\n",
    "\n"
   ]
  },
  {
   "cell_type": "code",
   "execution_count": 2,
   "metadata": {},
   "outputs": [],
   "source": [
    "#Global Variables\n",
    "URL_WEBSITE = \"https://annuaire.sante.fr/web/site-pro/extractions-publiques\"\n",
    "FILES_LIST = [\"ExtractionMonoTable_CAT18_ToutePopulation\",\"PS_LibreAcces\"]\n",
    "# Directory to download files :\n",
    "LOCAL_DIR = \"../data/external/\"\n"
   ]
  },
  {
   "cell_type": "code",
   "execution_count": 3,
   "metadata": {},
   "outputs": [],
   "source": [
    "def get_urls(URL_WEBSITE, FILES_LIST):\n",
    "\n",
    "    # Importing page content\n",
    "    page = requests.get(URL_WEBSITE)\n",
    "\n",
    "    # Creating a dict of URLs\n",
    "    to_download_dict = {}\n",
    "\n",
    "    #For each string in the html code:\n",
    "    for string in page.text.split():\n",
    "\n",
    "        # We test if one of our file names is inside\n",
    "        for file_name in FILES_LIST:\n",
    "\n",
    "            # If so we create a new key in our dict, and add the URL as value\n",
    "            # once we have removed the quotation marks\n",
    "            if file_name in string:\n",
    "                to_download_dict[file_name] = ((re.findall(r'\"(.*?)\"', string)[0]))\n",
    "            \n",
    "    return to_download_dict"
   ]
  },
  {
   "cell_type": "code",
   "execution_count": 5,
   "metadata": {},
   "outputs": [],
   "source": [
    "def downloading_data(to_download_dict,local_dir):\n",
    "\n",
    "    # Cheking if repertory does not already exist.\n",
    "    if local_dir: # if string is not empty\n",
    "        if not os.path.exists(local_dir): # testing if local directory does not already exist.\n",
    "            os.makedirs(local_dir) # creating new directory\n",
    "\n",
    "    for file in to_download_dict:\n",
    "\n",
    "        r = requests.head(to_download_dict[file]) # Establishing connection\n",
    "        if r.status_code == 200: # Checking if file exists.\n",
    "\n",
    "            print(\"File\", file, \"has been found. Download in progress...\")\n",
    "\n",
    "            filepath_in = os.path.join(LOCAL_DIR,file + \".zip\")\n",
    "            with open(filepath_in, 'wb') as f_in:\n",
    "                r = requests.get(to_download_dict[file])\n",
    "                f_in.write(r.content)\n",
    "                \n",
    "            # Usually not mandatory because of the 'with' but returns an error on Windows when ommited.\n",
    "            f_in.close()\n",
    "            \n",
    "            print (file, 'has been downloaded to', filepath_in)\n",
    "        else: print ('Error : Wrong URL')"
   ]
  },
  {
   "cell_type": "code",
   "execution_count": 4,
   "metadata": {},
   "outputs": [],
   "source": [
    "to_download_dict = get_urls(URL_WEBSITE, FILES_LIST)"
   ]
  },
  {
   "cell_type": "code",
   "execution_count": 6,
   "metadata": {},
   "outputs": [
    {
     "name": "stdout",
     "output_type": "stream",
     "text": [
      "File PS_LibreAcces has been found. Download in progress...\n",
      "PS_LibreAcces has been downloaded to ../data/external/PS_LibreAcces.zip\n",
      "File ExtractionMonoTable_CAT18_ToutePopulation has been found. Download in progress...\n",
      "ExtractionMonoTable_CAT18_ToutePopulation has been downloaded to ../data/external/ExtractionMonoTable_CAT18_ToutePopulation.zip\n"
     ]
    }
   ],
   "source": [
    "downloading_data(to_download_dict,LOCAL_DIR)"
   ]
  },
  {
   "cell_type": "code",
   "execution_count": null,
   "metadata": {},
   "outputs": [],
   "source": []
  }
 ],
 "metadata": {
  "kernelspec": {
   "display_name": "Python 3",
   "language": "python",
   "name": "python3"
  },
  "language_info": {
   "codemirror_mode": {
    "name": "ipython",
    "version": 3
   },
   "file_extension": ".py",
   "mimetype": "text/x-python",
   "name": "python",
   "nbconvert_exporter": "python",
   "pygments_lexer": "ipython3",
   "version": "3.7.3"
  }
 },
 "nbformat": 4,
 "nbformat_minor": 2
}
