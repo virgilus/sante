{
 "cells": [
  {
   "cell_type": "code",
   "execution_count": 49,
   "metadata": {},
   "outputs": [],
   "source": [
    "import pandas as pd\n",
    "import os\n",
    "import csv"
   ]
  },
  {
   "cell_type": "markdown",
   "metadata": {},
   "source": [
    "### Global Variables"
   ]
  },
  {
   "cell_type": "code",
   "execution_count": 48,
   "metadata": {},
   "outputs": [],
   "source": [
    "# File paths\n",
    "Path_Apl_France_Medecins = \"APL_France_Medecins.csv\"\n",
    "Path_Distance_Medecins_Communes = \"communes_distance_et_evolution_5_ans.csv\"\n",
    "Path_PS_Libre_Acces = \"../data/external/PS_LibreAcces/PS_LibreAcces_Personne_activite.txt\""
   ]
  },
  {
   "cell_type": "markdown",
   "metadata": {},
   "source": [
    "### Création des DataFrames"
   ]
  },
  {
   "cell_type": "code",
   "execution_count": null,
   "metadata": {},
   "outputs": [],
   "source": [
    "PS_df = pd.read_csv(Path_PS_Libre_Acces, dtype='str',encoding='UTF-8', sep=\"|\")"
   ]
  },
  {
   "cell_type": "code",
   "execution_count": 19,
   "metadata": {},
   "outputs": [],
   "source": [
    "APL_France_Medecins_df = pd.read_csv(Path_Apl_France_Medecins, dtype='str',encoding='UTF-8', sep=\",\")"
   ]
  },
  {
   "cell_type": "code",
   "execution_count": 20,
   "metadata": {},
   "outputs": [],
   "source": [
    "Distance_Medecins_Communes_df = pd.read_csv(Path_Distance_Medecins_Communes, dtype='str',encoding='UTF-8', sep=\";\")"
   ]
  },
  {
   "cell_type": "code",
   "execution_count": 21,
   "metadata": {},
   "outputs": [
    {
     "data": {
      "text/html": [
       "<div>\n",
       "<style scoped>\n",
       "    .dataframe tbody tr th:only-of-type {\n",
       "        vertical-align: middle;\n",
       "    }\n",
       "\n",
       "    .dataframe tbody tr th {\n",
       "        vertical-align: top;\n",
       "    }\n",
       "\n",
       "    .dataframe thead th {\n",
       "        text-align: right;\n",
       "    }\n",
       "</style>\n",
       "<table border=\"1\" class=\"dataframe\">\n",
       "  <thead>\n",
       "    <tr style=\"text-align: right;\">\n",
       "      <th></th>\n",
       "      <th>Code commune INSEE</th>\n",
       "      <th>Communes</th>\n",
       "      <th>APL aux médecins généralistes</th>\n",
       "      <th>APL aux médecins généralistes de moins de 65 ans</th>\n",
       "      <th>Population standardisée 2014 pour la médecine générale</th>\n",
       "      <th>Nom d'exercice</th>\n",
       "    </tr>\n",
       "  </thead>\n",
       "  <tbody>\n",
       "    <tr>\n",
       "      <th>0</th>\n",
       "      <td>01001</td>\n",
       "      <td>L' Abergement-Clémenciat</td>\n",
       "      <td>2.305</td>\n",
       "      <td>2.021</td>\n",
       "      <td>765.2604758149912</td>\n",
       "      <td>[nan]</td>\n",
       "    </tr>\n",
       "    <tr>\n",
       "      <th>1</th>\n",
       "      <td>01002</td>\n",
       "      <td>L' Abergement-de-Varey</td>\n",
       "      <td>2.773</td>\n",
       "      <td>2.683</td>\n",
       "      <td>235.4996212788099</td>\n",
       "      <td>[nan]</td>\n",
       "    </tr>\n",
       "    <tr>\n",
       "      <th>2</th>\n",
       "      <td>01004</td>\n",
       "      <td>Ambérieu-en-Bugey</td>\n",
       "      <td>4.428</td>\n",
       "      <td>4.325</td>\n",
       "      <td>13638.75838414545</td>\n",
       "      <td>['ERRARD', 'CELLIER', 'BILLANDON', 'BELEY', 'G...</td>\n",
       "    </tr>\n",
       "    <tr>\n",
       "      <th>3</th>\n",
       "      <td>01005</td>\n",
       "      <td>Ambérieux-en-Dombes</td>\n",
       "      <td>4.442</td>\n",
       "      <td>4.442</td>\n",
       "      <td>1571.2112473180186</td>\n",
       "      <td>['PIGNARD', 'DURAFFOURG']</td>\n",
       "    </tr>\n",
       "    <tr>\n",
       "      <th>4</th>\n",
       "      <td>01006</td>\n",
       "      <td>Ambléon</td>\n",
       "      <td>1.084</td>\n",
       "      <td>0.936</td>\n",
       "      <td>119.10786904950405</td>\n",
       "      <td>[nan]</td>\n",
       "    </tr>\n",
       "  </tbody>\n",
       "</table>\n",
       "</div>"
      ],
      "text/plain": [
       "  Code commune INSEE                  Communes APL aux médecins généralistes  \\\n",
       "0              01001  L' Abergement-Clémenciat                         2.305   \n",
       "1              01002    L' Abergement-de-Varey                         2.773   \n",
       "2              01004         Ambérieu-en-Bugey                         4.428   \n",
       "3              01005       Ambérieux-en-Dombes                         4.442   \n",
       "4              01006                   Ambléon                         1.084   \n",
       "\n",
       "  APL aux médecins généralistes de moins de 65 ans  \\\n",
       "0                                            2.021   \n",
       "1                                            2.683   \n",
       "2                                            4.325   \n",
       "3                                            4.442   \n",
       "4                                            0.936   \n",
       "\n",
       "  Population standardisée 2014 pour la médecine générale  \\\n",
       "0                                  765.2604758149912       \n",
       "1                                  235.4996212788099       \n",
       "2                                  13638.75838414545       \n",
       "3                                 1571.2112473180186       \n",
       "4                                 119.10786904950405       \n",
       "\n",
       "                                      Nom d'exercice  \n",
       "0                                              [nan]  \n",
       "1                                              [nan]  \n",
       "2  ['ERRARD', 'CELLIER', 'BILLANDON', 'BELEY', 'G...  \n",
       "3                          ['PIGNARD', 'DURAFFOURG']  \n",
       "4                                              [nan]  "
      ]
     },
     "execution_count": 21,
     "metadata": {},
     "output_type": "execute_result"
    }
   ],
   "source": [
    "APL_France_Medecins_df.head()"
   ]
  },
  {
   "cell_type": "code",
   "execution_count": 22,
   "metadata": {},
   "outputs": [
    {
     "data": {
      "text/html": [
       "<div>\n",
       "<style scoped>\n",
       "    .dataframe tbody tr th:only-of-type {\n",
       "        vertical-align: middle;\n",
       "    }\n",
       "\n",
       "    .dataframe tbody tr th {\n",
       "        vertical-align: top;\n",
       "    }\n",
       "\n",
       "    .dataframe thead th {\n",
       "        text-align: right;\n",
       "    }\n",
       "</style>\n",
       "<table border=\"1\" class=\"dataframe\">\n",
       "  <thead>\n",
       "    <tr style=\"text-align: right;\">\n",
       "      <th></th>\n",
       "      <th>Code</th>\n",
       "      <th>Nom Commune</th>\n",
       "      <th>Distance au plus proche généraliste 2017</th>\n",
       "      <th>Evolution du nbre de géné sur 5 ans 2017</th>\n",
       "    </tr>\n",
       "  </thead>\n",
       "  <tbody>\n",
       "    <tr>\n",
       "      <th>0</th>\n",
       "      <td>01001</td>\n",
       "      <td>L'Abergement-Clémenciat</td>\n",
       "      <td>5</td>\n",
       "      <td>0</td>\n",
       "    </tr>\n",
       "    <tr>\n",
       "      <th>1</th>\n",
       "      <td>01002</td>\n",
       "      <td>L'Abergement-de-Varey</td>\n",
       "      <td>4</td>\n",
       "      <td>0</td>\n",
       "    </tr>\n",
       "    <tr>\n",
       "      <th>2</th>\n",
       "      <td>01004</td>\n",
       "      <td>Ambérieu-en-Bugey</td>\n",
       "      <td>0</td>\n",
       "      <td>-1</td>\n",
       "    </tr>\n",
       "    <tr>\n",
       "      <th>3</th>\n",
       "      <td>01005</td>\n",
       "      <td>Ambérieux-en-Dombes</td>\n",
       "      <td>0</td>\n",
       "      <td>0</td>\n",
       "    </tr>\n",
       "    <tr>\n",
       "      <th>4</th>\n",
       "      <td>01006</td>\n",
       "      <td>Ambléon</td>\n",
       "      <td>11</td>\n",
       "      <td>0</td>\n",
       "    </tr>\n",
       "  </tbody>\n",
       "</table>\n",
       "</div>"
      ],
      "text/plain": [
       "    Code              Nom Commune Distance au plus proche généraliste 2017  \\\n",
       "0  01001  L'Abergement-Clémenciat                                        5   \n",
       "1  01002    L'Abergement-de-Varey                                        4   \n",
       "2  01004        Ambérieu-en-Bugey                                        0   \n",
       "3  01005      Ambérieux-en-Dombes                                        0   \n",
       "4  01006                  Ambléon                                       11   \n",
       "\n",
       "  Evolution du nbre de géné sur 5 ans 2017  \n",
       "0                                        0  \n",
       "1                                        0  \n",
       "2                                       -1  \n",
       "3                                        0  \n",
       "4                                        0  "
      ]
     },
     "execution_count": 22,
     "metadata": {},
     "output_type": "execute_result"
    }
   ],
   "source": [
    "Distance_Medecins_Communes_df.head()"
   ]
  },
  {
   "cell_type": "markdown",
   "metadata": {},
   "source": [
    "### Jointures des tables"
   ]
  },
  {
   "cell_type": "code",
   "execution_count": 23,
   "metadata": {},
   "outputs": [],
   "source": [
    "# Renommage des colonnes (facultatif)\n",
    "\n",
    "Distance_Medecins_Communes_df = Distance_Medecins_Communes_df.rename(columns={ Distance_Medecins_Communes_df.columns[0]: \"Code INSEE\" })\n",
    "APL_France_Medecins_df = APL_France_Medecins_df.rename(columns={ APL_France_Medecins_df.columns[0]: \"Code INSEE\" })"
   ]
  },
  {
   "cell_type": "code",
   "execution_count": 24,
   "metadata": {},
   "outputs": [],
   "source": [
    "result_df = pd.merge(APL_France_Medecins_df,Distance_Medecins_Communes_df[['Distance au plus proche généraliste 2017','Evolution du nbre de géné sur 5 ans 2017', 'Code INSEE']], how = 'left', on = 'Code INSEE')"
   ]
  },
  {
   "cell_type": "code",
   "execution_count": 25,
   "metadata": {},
   "outputs": [
    {
     "data": {
      "text/html": [
       "<div>\n",
       "<style scoped>\n",
       "    .dataframe tbody tr th:only-of-type {\n",
       "        vertical-align: middle;\n",
       "    }\n",
       "\n",
       "    .dataframe tbody tr th {\n",
       "        vertical-align: top;\n",
       "    }\n",
       "\n",
       "    .dataframe thead th {\n",
       "        text-align: right;\n",
       "    }\n",
       "</style>\n",
       "<table border=\"1\" class=\"dataframe\">\n",
       "  <thead>\n",
       "    <tr style=\"text-align: right;\">\n",
       "      <th></th>\n",
       "      <th>Code INSEE</th>\n",
       "      <th>Communes</th>\n",
       "      <th>APL aux médecins généralistes</th>\n",
       "      <th>APL aux médecins généralistes de moins de 65 ans</th>\n",
       "      <th>Population standardisée 2014 pour la médecine générale</th>\n",
       "      <th>Nom d'exercice</th>\n",
       "      <th>Distance au plus proche généraliste 2017</th>\n",
       "      <th>Evolution du nbre de géné sur 5 ans 2017</th>\n",
       "    </tr>\n",
       "  </thead>\n",
       "  <tbody>\n",
       "    <tr>\n",
       "      <th>0</th>\n",
       "      <td>01001</td>\n",
       "      <td>L' Abergement-Clémenciat</td>\n",
       "      <td>2.305</td>\n",
       "      <td>2.021</td>\n",
       "      <td>765.2604758149912</td>\n",
       "      <td>[nan]</td>\n",
       "      <td>5</td>\n",
       "      <td>0</td>\n",
       "    </tr>\n",
       "    <tr>\n",
       "      <th>1</th>\n",
       "      <td>01002</td>\n",
       "      <td>L' Abergement-de-Varey</td>\n",
       "      <td>2.773</td>\n",
       "      <td>2.683</td>\n",
       "      <td>235.4996212788099</td>\n",
       "      <td>[nan]</td>\n",
       "      <td>4</td>\n",
       "      <td>0</td>\n",
       "    </tr>\n",
       "    <tr>\n",
       "      <th>2</th>\n",
       "      <td>01004</td>\n",
       "      <td>Ambérieu-en-Bugey</td>\n",
       "      <td>4.428</td>\n",
       "      <td>4.325</td>\n",
       "      <td>13638.75838414545</td>\n",
       "      <td>['ERRARD', 'CELLIER', 'BILLANDON', 'BELEY', 'G...</td>\n",
       "      <td>0</td>\n",
       "      <td>-1</td>\n",
       "    </tr>\n",
       "    <tr>\n",
       "      <th>3</th>\n",
       "      <td>01005</td>\n",
       "      <td>Ambérieux-en-Dombes</td>\n",
       "      <td>4.442</td>\n",
       "      <td>4.442</td>\n",
       "      <td>1571.2112473180186</td>\n",
       "      <td>['PIGNARD', 'DURAFFOURG']</td>\n",
       "      <td>0</td>\n",
       "      <td>0</td>\n",
       "    </tr>\n",
       "    <tr>\n",
       "      <th>4</th>\n",
       "      <td>01006</td>\n",
       "      <td>Ambléon</td>\n",
       "      <td>1.084</td>\n",
       "      <td>0.936</td>\n",
       "      <td>119.10786904950405</td>\n",
       "      <td>[nan]</td>\n",
       "      <td>11</td>\n",
       "      <td>0</td>\n",
       "    </tr>\n",
       "  </tbody>\n",
       "</table>\n",
       "</div>"
      ],
      "text/plain": [
       "  Code INSEE                  Communes APL aux médecins généralistes  \\\n",
       "0      01001  L' Abergement-Clémenciat                         2.305   \n",
       "1      01002    L' Abergement-de-Varey                         2.773   \n",
       "2      01004         Ambérieu-en-Bugey                         4.428   \n",
       "3      01005       Ambérieux-en-Dombes                         4.442   \n",
       "4      01006                   Ambléon                         1.084   \n",
       "\n",
       "  APL aux médecins généralistes de moins de 65 ans  \\\n",
       "0                                            2.021   \n",
       "1                                            2.683   \n",
       "2                                            4.325   \n",
       "3                                            4.442   \n",
       "4                                            0.936   \n",
       "\n",
       "  Population standardisée 2014 pour la médecine générale  \\\n",
       "0                                  765.2604758149912       \n",
       "1                                  235.4996212788099       \n",
       "2                                  13638.75838414545       \n",
       "3                                 1571.2112473180186       \n",
       "4                                 119.10786904950405       \n",
       "\n",
       "                                      Nom d'exercice  \\\n",
       "0                                              [nan]   \n",
       "1                                              [nan]   \n",
       "2  ['ERRARD', 'CELLIER', 'BILLANDON', 'BELEY', 'G...   \n",
       "3                          ['PIGNARD', 'DURAFFOURG']   \n",
       "4                                              [nan]   \n",
       "\n",
       "  Distance au plus proche généraliste 2017  \\\n",
       "0                                        5   \n",
       "1                                        4   \n",
       "2                                        0   \n",
       "3                                        0   \n",
       "4                                       11   \n",
       "\n",
       "  Evolution du nbre de géné sur 5 ans 2017  \n",
       "0                                        0  \n",
       "1                                        0  \n",
       "2                                       -1  \n",
       "3                                        0  \n",
       "4                                        0  "
      ]
     },
     "execution_count": 25,
     "metadata": {},
     "output_type": "execute_result"
    }
   ],
   "source": [
    "result_df.head(5)"
   ]
  },
  {
   "cell_type": "markdown",
   "metadata": {},
   "source": [
    "### Nettoyage du fichier"
   ]
  },
  {
   "cell_type": "code",
   "execution_count": 26,
   "metadata": {},
   "outputs": [],
   "source": [
    "# On passe la variable de la population en format numérique\n",
    "result_df['Population standardisée 2014 pour la médecine générale'] = result_df['Population standardisée 2014 pour la médecine générale'].apply(pd.to_numeric, errors='coerce')"
   ]
  },
  {
   "cell_type": "code",
   "execution_count": 27,
   "metadata": {},
   "outputs": [],
   "source": [
    "# On arrondit la variable à l'unité près, et sans le \"0.\" ensuite.\n",
    "result_df['Population standardisée 2014 pour la médecine générale'] = result_df['Population standardisée 2014 pour la médecine générale'].apply(lambda x: round(x))"
   ]
  },
  {
   "cell_type": "raw",
   "metadata": {},
   "source": [
    "# Même chose que la ligne du dessus, mais il y a un \".0\" après.\n",
    "result_df['Population standardisée 2014 pour la médecine générale'] = result_df['Population standardisée 2014 pour la médecine générale'].round()"
   ]
  },
  {
   "cell_type": "markdown",
   "metadata": {},
   "source": [
    "### Stastistiques basiques"
   ]
  },
  {
   "cell_type": "code",
   "execution_count": 28,
   "metadata": {},
   "outputs": [
    {
     "data": {
      "text/plain": [
       "0      26315\n",
       "-1      1738\n",
       "1       1383\n",
       "-2       433\n",
       "2        323\n",
       "-3       159\n",
       "3        117\n",
       "-4        77\n",
       "4         39\n",
       "-5        34\n",
       "-6        31\n",
       "-7        24\n",
       "5         21\n",
       "-9        18\n",
       "7         12\n",
       "-8         9\n",
       "-14        7\n",
       "-12        7\n",
       "-11        5\n",
       "-10        5\n",
       "6          5\n",
       "-15        3\n",
       "-16        3\n",
       "-17        3\n",
       "12         2\n",
       "8          2\n",
       "-23        2\n",
       "9          2\n",
       "10         1\n",
       "-18        1\n",
       "-13        1\n",
       "16         1\n",
       "22         1\n",
       "-30        1\n",
       "38         1\n",
       "11         1\n",
       "-21        1\n",
       "-20        1\n",
       "-39        1\n",
       "-67        1\n",
       "32         1\n",
       "66         1\n",
       "-31        1\n",
       "-19        1\n",
       "Name: Evolution du nbre de géné sur 5 ans 2017, dtype: int64"
      ]
     },
     "execution_count": 28,
     "metadata": {},
     "output_type": "execute_result"
    }
   ],
   "source": [
    "# Statistiques de l'évolution des médecins\n",
    "result_df['Evolution du nbre de géné sur 5 ans 2017'].value_counts()"
   ]
  },
  {
   "cell_type": "code",
   "execution_count": 29,
   "metadata": {},
   "outputs": [
    {
     "data": {
      "text/html": [
       "<div>\n",
       "<style scoped>\n",
       "    .dataframe tbody tr th:only-of-type {\n",
       "        vertical-align: middle;\n",
       "    }\n",
       "\n",
       "    .dataframe tbody tr th {\n",
       "        vertical-align: top;\n",
       "    }\n",
       "\n",
       "    .dataframe thead th {\n",
       "        text-align: right;\n",
       "    }\n",
       "</style>\n",
       "<table border=\"1\" class=\"dataframe\">\n",
       "  <thead>\n",
       "    <tr style=\"text-align: right;\">\n",
       "      <th></th>\n",
       "      <th>Code INSEE</th>\n",
       "      <th>Communes</th>\n",
       "      <th>APL aux médecins généralistes</th>\n",
       "      <th>APL aux médecins généralistes de moins de 65 ans</th>\n",
       "      <th>Population standardisée 2014 pour la médecine générale</th>\n",
       "      <th>Nom d'exercice</th>\n",
       "      <th>Distance au plus proche généraliste 2017</th>\n",
       "      <th>Evolution du nbre de géné sur 5 ans 2017</th>\n",
       "    </tr>\n",
       "  </thead>\n",
       "  <tbody>\n",
       "  </tbody>\n",
       "</table>\n",
       "</div>"
      ],
      "text/plain": [
       "Empty DataFrame\n",
       "Columns: [Code INSEE, Communes, APL aux médecins généralistes, APL aux médecins généralistes de moins de 65 ans, Population standardisée 2014 pour la médecine générale, Nom d'exercice, Distance au plus proche généraliste 2017, Evolution du nbre de géné sur 5 ans 2017]\n",
       "Index: []"
      ]
     },
     "execution_count": 29,
     "metadata": {},
     "output_type": "execute_result"
    }
   ],
   "source": [
    "# Afficher les communes où l'APL = 0\n",
    "result_df.loc[result_df['APL aux médecins généralistes de moins de 65 ans'] == 0]"
   ]
  },
  {
   "cell_type": "code",
   "execution_count": 30,
   "metadata": {},
   "outputs": [
    {
     "data": {
      "text/plain": [
       "count     35904\n",
       "unique     5561\n",
       "top           0\n",
       "freq        477\n",
       "Name: APL aux médecins généralistes de moins de 65 ans, dtype: object"
      ]
     },
     "execution_count": 30,
     "metadata": {},
     "output_type": "execute_result"
    }
   ],
   "source": [
    "# statistiques de base sur l'APL\n",
    "result_df['APL aux médecins généralistes de moins de 65 ans'].describe()"
   ]
  },
  {
   "cell_type": "markdown",
   "metadata": {},
   "source": [
    "### Création de nouvelles colonnes"
   ]
  },
  {
   "cell_type": "markdown",
   "metadata": {},
   "source": [
    "#### APL Standardisé"
   ]
  },
  {
   "cell_type": "markdown",
   "metadata": {},
   "source": [
    "On modifie toutes les valeurs inférieures ou égal à 1 pour qu'elles soient égales à 1. Quant aux valeurs supérieures ou égales à 5 on les fixe à 5."
   ]
  },
  {
   "cell_type": "code",
   "execution_count": 31,
   "metadata": {},
   "outputs": [],
   "source": [
    "def standardisation(x):\n",
    "    if x <= 1:\n",
    "        return 1\n",
    "    elif x >= 5:\n",
    "        return 5\n",
    "    else:\n",
    "        return x"
   ]
  },
  {
   "cell_type": "code",
   "execution_count": 33,
   "metadata": {},
   "outputs": [],
   "source": [
    "# On passe la variable en format numérique\n",
    "result_df['APL aux médecins généralistes de moins de 65 ans'] = result_df['APL aux médecins généralistes de moins de 65 ans'].apply(pd.to_numeric, errors='coerce')"
   ]
  },
  {
   "cell_type": "code",
   "execution_count": 34,
   "metadata": {},
   "outputs": [],
   "source": [
    "result_df['APL 65 ans Standardisé'] = result_df['APL aux médecins généralistes de moins de 65 ans'].apply(lambda x: standardisation(x))"
   ]
  },
  {
   "cell_type": "markdown",
   "metadata": {},
   "source": [
    "#### Inverse de l'APL"
   ]
  },
  {
   "cell_type": "code",
   "execution_count": 35,
   "metadata": {},
   "outputs": [],
   "source": [
    "def inverse(x):\n",
    "    if x != 0:\n",
    "        return 1/x\n",
    "    else:\n",
    "        return x\n",
    "    "
   ]
  },
  {
   "cell_type": "code",
   "execution_count": 36,
   "metadata": {},
   "outputs": [],
   "source": [
    "result_df['inverse APL'] = result_df['APL 65 ans Standardisé'].apply(lambda x: inverse(x))"
   ]
  },
  {
   "cell_type": "markdown",
   "metadata": {},
   "source": [
    "#### Population"
   ]
  },
  {
   "cell_type": "markdown",
   "metadata": {},
   "source": [
    "Si la population est comprise entre 400 et 3000, Indice pop = 0.5."
   ]
  },
  {
   "cell_type": "code",
   "execution_count": 37,
   "metadata": {},
   "outputs": [],
   "source": [
    "def indice_pop(x):\n",
    "    if 400 <= x <= 3000:\n",
    "        return 0.5\n",
    "    else:\n",
    "        return 0"
   ]
  },
  {
   "cell_type": "code",
   "execution_count": 38,
   "metadata": {},
   "outputs": [],
   "source": [
    "result_df['Indice pop'] = result_df['Population standardisée 2014 pour la médecine générale'].apply(lambda x: indice_pop(x))"
   ]
  },
  {
   "cell_type": "code",
   "execution_count": 39,
   "metadata": {},
   "outputs": [
    {
     "data": {
      "text/plain": [
       "0.0    20271\n",
       "0.5    15633\n",
       "Name: Indice pop, dtype: int64"
      ]
     },
     "execution_count": 39,
     "metadata": {},
     "output_type": "execute_result"
    }
   ],
   "source": [
    "result_df['Indice pop'].value_counts()"
   ]
  },
  {
   "cell_type": "markdown",
   "metadata": {},
   "source": [
    "#### Evolution"
   ]
  },
  {
   "cell_type": "markdown",
   "metadata": {},
   "source": [
    "Si l'évolution du niombre de médecins est négative, on lui assigne 0.2."
   ]
  },
  {
   "cell_type": "code",
   "execution_count": 40,
   "metadata": {},
   "outputs": [],
   "source": [
    "def evolution(x):\n",
    "    if x < 0:\n",
    "        return 0.2\n",
    "    else:\n",
    "        return 0"
   ]
  },
  {
   "cell_type": "code",
   "execution_count": 41,
   "metadata": {},
   "outputs": [],
   "source": [
    "# On passe la variable en format numérique\n",
    "result_df['Evolution du nbre de géné sur 5 ans 2017']= result_df['Evolution du nbre de géné sur 5 ans 2017'].apply(pd.to_numeric, errors='coerce')"
   ]
  },
  {
   "cell_type": "code",
   "execution_count": 42,
   "metadata": {},
   "outputs": [],
   "source": [
    "result_df['Indice evolution'] = result_df['Evolution du nbre de géné sur 5 ans 2017'].apply(lambda x: evolution(x))"
   ]
  },
  {
   "cell_type": "markdown",
   "metadata": {},
   "source": [
    "#### Ajout des Pharmacies"
   ]
  },
  {
   "cell_type": "raw",
   "metadata": {},
   "source": [
    "# Change the settings so pandas can display up to 55 columns\n",
    "pd.set_option('display.max_columns', 55)"
   ]
  },
  {
   "cell_type": "code",
   "execution_count": 237,
   "metadata": {},
   "outputs": [],
   "source": [
    "# On importe les professions de santé\n",
    "PS_df = pd.read_csv(Path_PS_Libre_Acces, dtype='str',encoding='UTF-8', sep=\"|\")"
   ]
  },
  {
   "cell_type": "code",
   "execution_count": 238,
   "metadata": {},
   "outputs": [],
   "source": [
    "# On ne prend que les pharmacies d'officine\n",
    "PS_df = PS_df.loc[PS_df[\"Libellé secteur d'activité\"] == \"Pharmacie d'officine\"]"
   ]
  },
  {
   "cell_type": "markdown",
   "metadata": {},
   "source": [
    "On créé une nouvelle colonne qui concatène la raison social avec le numéro de téléphone et l'adresse email."
   ]
  },
  {
   "cell_type": "code",
   "execution_count": 239,
   "metadata": {},
   "outputs": [],
   "source": [
    "PS_df[\"Téléphone (coord. structure)\"] = PS_df[\"Téléphone (coord. structure)\"].apply(str)"
   ]
  },
  {
   "cell_type": "code",
   "execution_count": 240,
   "metadata": {},
   "outputs": [],
   "source": [
    "PS_df[\"Adresse e-mail (coord. structure)\"] = PS_df[\"Adresse e-mail (coord. structure)\"].apply(str)"
   ]
  },
  {
   "cell_type": "code",
   "execution_count": 241,
   "metadata": {},
   "outputs": [],
   "source": [
    "PS_df[\"Raison sociale site\"] = PS_df[\"Raison sociale site\"].apply(str)"
   ]
  },
  {
   "cell_type": "code",
   "execution_count": 242,
   "metadata": {},
   "outputs": [],
   "source": [
    "# Fonction pour créer une nouvelle colonne propre avec le nom de la structure et éventuellement les contacts.\n",
    "\n",
    "def nom_et_contact(row):\n",
    "    texte = row[\"Raison sociale site\"]\n",
    "    texte = texte.replace('PHARMACIE', 'Ph.')\n",
    "    if row[\"Téléphone (coord. structure)\"] != \"nan\" :\n",
    "        texte = texte + \" (\" + row[\"Téléphone (coord. structure)\"] + \")\"\n",
    "    if row[\"Adresse e-mail (coord. structure)\"] != \"nan\" :\n",
    "        texte = texte + \" (\" + row[\"Adresse e-mail (coord. structure)\"] + \")\"\n",
    "    return texte"
   ]
  },
  {
   "cell_type": "code",
   "execution_count": 243,
   "metadata": {},
   "outputs": [],
   "source": [
    "PS_df[\"Nom et contact\"] = PS_df.apply(nom_et_contact, axis=1)"
   ]
  },
  {
   "cell_type": "code",
   "execution_count": 244,
   "metadata": {},
   "outputs": [],
   "source": [
    "PS_df = PS_df.drop_duplicates(subset=[\"Identifiant technique de la structure\"])"
   ]
  },
  {
   "cell_type": "code",
   "execution_count": 245,
   "metadata": {},
   "outputs": [],
   "source": [
    "pharmacie_par_ville_df = PS_df.groupby(\"Code commune (coord. structure)\")[\"Nom et contact\"].apply(list)"
   ]
  },
  {
   "cell_type": "code",
   "execution_count": 246,
   "metadata": {},
   "outputs": [],
   "source": [
    "pharmacie_par_ville_df = pharmacie_par_ville_df.to_frame().reset_index() # On le convertit en DF"
   ]
  },
  {
   "cell_type": "code",
   "execution_count": 251,
   "metadata": {},
   "outputs": [],
   "source": [
    "pharmacie_par_ville_df = pharmacie_par_ville_df.rename(columns={ pharmacie_par_ville_df.columns[0]: \"Code INSEE\" })"
   ]
  },
  {
   "cell_type": "code",
   "execution_count": 252,
   "metadata": {},
   "outputs": [
    {
     "data": {
      "text/html": [
       "<div>\n",
       "<style scoped>\n",
       "    .dataframe tbody tr th:only-of-type {\n",
       "        vertical-align: middle;\n",
       "    }\n",
       "\n",
       "    .dataframe tbody tr th {\n",
       "        vertical-align: top;\n",
       "    }\n",
       "\n",
       "    .dataframe thead th {\n",
       "        text-align: right;\n",
       "    }\n",
       "</style>\n",
       "<table border=\"1\" class=\"dataframe\">\n",
       "  <thead>\n",
       "    <tr style=\"text-align: right;\">\n",
       "      <th></th>\n",
       "      <th>Code INSEE</th>\n",
       "      <th>Nom et contact</th>\n",
       "    </tr>\n",
       "  </thead>\n",
       "  <tbody>\n",
       "    <tr>\n",
       "      <th>0</th>\n",
       "      <td>01004</td>\n",
       "      <td>[PH. PASQUALINI (0474380226), PH. VOLLENWEIDER...</td>\n",
       "    </tr>\n",
       "    <tr>\n",
       "      <th>1</th>\n",
       "      <td>01005</td>\n",
       "      <td>[PH. VINOIS-DOLIVET (0474008311)]</td>\n",
       "    </tr>\n",
       "    <tr>\n",
       "      <th>2</th>\n",
       "      <td>01007</td>\n",
       "      <td>[PH. BEDOY]</td>\n",
       "    </tr>\n",
       "    <tr>\n",
       "      <th>3</th>\n",
       "      <td>01014</td>\n",
       "      <td>[PH. GROSS (0474773819)]</td>\n",
       "    </tr>\n",
       "    <tr>\n",
       "      <th>4</th>\n",
       "      <td>01021</td>\n",
       "      <td>[PH. SCHINDELE (0474007732)]</td>\n",
       "    </tr>\n",
       "  </tbody>\n",
       "</table>\n",
       "</div>"
      ],
      "text/plain": [
       "  Code INSEE                                     Nom et contact\n",
       "0      01004  [PH. PASQUALINI (0474380226), PH. VOLLENWEIDER...\n",
       "1      01005                  [PH. VINOIS-DOLIVET (0474008311)]\n",
       "2      01007                                        [PH. BEDOY]\n",
       "3      01014                           [PH. GROSS (0474773819)]\n",
       "4      01021                       [PH. SCHINDELE (0474007732)]"
      ]
     },
     "execution_count": 252,
     "metadata": {},
     "output_type": "execute_result"
    }
   ],
   "source": [
    "pharmacie_par_ville_df.head()"
   ]
  },
  {
   "cell_type": "markdown",
   "metadata": {},
   "source": [
    "##### Fusion de pharmacie avec le DF"
   ]
  },
  {
   "cell_type": "code",
   "execution_count": 255,
   "metadata": {},
   "outputs": [],
   "source": [
    "result_df = pd.merge(result_df, pharmacie_par_ville_df[['Code INSEE',\"Nom et contact\"]],on='Code INSEE', how='left')"
   ]
  },
  {
   "cell_type": "code",
   "execution_count": 257,
   "metadata": {},
   "outputs": [],
   "source": [
    "result_df  = result_df.rename(columns={ \"Nom et contact\": \"Pharmacie\" })"
   ]
  },
  {
   "cell_type": "code",
   "execution_count": 272,
   "metadata": {},
   "outputs": [],
   "source": [
    "result_df[\"Pharmacie\"] = result_df[\"Pharmacie\"].apply(str)"
   ]
  },
  {
   "cell_type": "code",
   "execution_count": null,
   "metadata": {},
   "outputs": [],
   "source": [
    "# Statistiques sur les pharmacies isolées\n",
    "result_df.loc[(result_df[\"Nom d'exercice\"] == \"[nan]\") & (result_df[\"Pharmacie\"] != \"nan\")].describe()"
   ]
  },
  {
   "cell_type": "markdown",
   "metadata": {},
   "source": [
    "##### Calcul du score de la phamarcie isolée"
   ]
  },
  {
   "cell_type": "code",
   "execution_count": 281,
   "metadata": {},
   "outputs": [],
   "source": [
    "def ph_isolee(row):\n",
    "    if (row[\"Nom d'exercice\"] == \"[nan]\") & (row[\"Pharmacie\"] != \"nan\"):\n",
    "        return 0.2\n",
    "    else:\n",
    "        return 0"
   ]
  },
  {
   "cell_type": "code",
   "execution_count": 282,
   "metadata": {},
   "outputs": [],
   "source": [
    "result_df[\"Indice Ph isolée\"]  = result_df.apply(ph_isolee, axis=1)"
   ]
  },
  {
   "cell_type": "markdown",
   "metadata": {},
   "source": [
    "### Calcul du score"
   ]
  },
  {
   "cell_type": "code",
   "execution_count": 286,
   "metadata": {},
   "outputs": [],
   "source": [
    "#colonnes utilisées pour calculer le score\n",
    "colonnes_pour_score_liste = ['inverse APL','Indice pop','Indice evolution', 'Indice Ph isolée']"
   ]
  },
  {
   "cell_type": "code",
   "execution_count": 287,
   "metadata": {},
   "outputs": [],
   "source": [
    "result_df['Score'] = result_df[colonnes_pour_score_liste].sum(axis=1)"
   ]
  },
  {
   "cell_type": "code",
   "execution_count": 288,
   "metadata": {},
   "outputs": [
    {
     "data": {
      "text/html": [
       "<div>\n",
       "<style scoped>\n",
       "    .dataframe tbody tr th:only-of-type {\n",
       "        vertical-align: middle;\n",
       "    }\n",
       "\n",
       "    .dataframe tbody tr th {\n",
       "        vertical-align: top;\n",
       "    }\n",
       "\n",
       "    .dataframe thead th {\n",
       "        text-align: right;\n",
       "    }\n",
       "</style>\n",
       "<table border=\"1\" class=\"dataframe\">\n",
       "  <thead>\n",
       "    <tr style=\"text-align: right;\">\n",
       "      <th></th>\n",
       "      <th>Code INSEE</th>\n",
       "      <th>Communes</th>\n",
       "      <th>APL aux médecins généralistes</th>\n",
       "      <th>APL aux médecins généralistes de moins de 65 ans</th>\n",
       "      <th>Population standardisée 2014 pour la médecine générale</th>\n",
       "      <th>Nom d'exercice</th>\n",
       "      <th>Distance au plus proche généraliste 2017</th>\n",
       "      <th>Evolution du nbre de géné sur 5 ans 2017</th>\n",
       "      <th>APL 65 ans Standardisé</th>\n",
       "      <th>inverse APL</th>\n",
       "      <th>Indice pop</th>\n",
       "      <th>Indice evolution</th>\n",
       "      <th>Score</th>\n",
       "      <th>Pharmacie</th>\n",
       "      <th>Indice Ph isolée</th>\n",
       "    </tr>\n",
       "  </thead>\n",
       "  <tbody>\n",
       "    <tr>\n",
       "      <th>0</th>\n",
       "      <td>01001</td>\n",
       "      <td>L' Abergement-Clémenciat</td>\n",
       "      <td>2.305</td>\n",
       "      <td>2.021</td>\n",
       "      <td>765</td>\n",
       "      <td>[nan]</td>\n",
       "      <td>5</td>\n",
       "      <td>0.0</td>\n",
       "      <td>2.021</td>\n",
       "      <td>0.494805</td>\n",
       "      <td>0.5</td>\n",
       "      <td>0.0</td>\n",
       "      <td>0.994805</td>\n",
       "      <td>nan</td>\n",
       "      <td>0.0</td>\n",
       "    </tr>\n",
       "    <tr>\n",
       "      <th>1</th>\n",
       "      <td>01002</td>\n",
       "      <td>L' Abergement-de-Varey</td>\n",
       "      <td>2.773</td>\n",
       "      <td>2.683</td>\n",
       "      <td>235</td>\n",
       "      <td>[nan]</td>\n",
       "      <td>4</td>\n",
       "      <td>0.0</td>\n",
       "      <td>2.683</td>\n",
       "      <td>0.372717</td>\n",
       "      <td>0.0</td>\n",
       "      <td>0.0</td>\n",
       "      <td>0.372717</td>\n",
       "      <td>nan</td>\n",
       "      <td>0.0</td>\n",
       "    </tr>\n",
       "    <tr>\n",
       "      <th>2</th>\n",
       "      <td>01004</td>\n",
       "      <td>Ambérieu-en-Bugey</td>\n",
       "      <td>4.428</td>\n",
       "      <td>4.325</td>\n",
       "      <td>13639</td>\n",
       "      <td>['ERRARD', 'CELLIER', 'BILLANDON', 'BELEY', 'G...</td>\n",
       "      <td>0</td>\n",
       "      <td>-1.0</td>\n",
       "      <td>4.325</td>\n",
       "      <td>0.231214</td>\n",
       "      <td>0.0</td>\n",
       "      <td>0.2</td>\n",
       "      <td>0.431214</td>\n",
       "      <td>['PH. PASQUALINI (0474380226)', 'PH. VOLLENWEI...</td>\n",
       "      <td>0.0</td>\n",
       "    </tr>\n",
       "    <tr>\n",
       "      <th>3</th>\n",
       "      <td>01005</td>\n",
       "      <td>Ambérieux-en-Dombes</td>\n",
       "      <td>4.442</td>\n",
       "      <td>4.442</td>\n",
       "      <td>1571</td>\n",
       "      <td>['PIGNARD', 'DURAFFOURG']</td>\n",
       "      <td>0</td>\n",
       "      <td>0.0</td>\n",
       "      <td>4.442</td>\n",
       "      <td>0.225124</td>\n",
       "      <td>0.5</td>\n",
       "      <td>0.0</td>\n",
       "      <td>0.725124</td>\n",
       "      <td>['PH. VINOIS-DOLIVET (0474008311)']</td>\n",
       "      <td>0.0</td>\n",
       "    </tr>\n",
       "    <tr>\n",
       "      <th>4</th>\n",
       "      <td>01006</td>\n",
       "      <td>Ambléon</td>\n",
       "      <td>1.084</td>\n",
       "      <td>0.936</td>\n",
       "      <td>119</td>\n",
       "      <td>[nan]</td>\n",
       "      <td>11</td>\n",
       "      <td>0.0</td>\n",
       "      <td>1.000</td>\n",
       "      <td>1.000000</td>\n",
       "      <td>0.0</td>\n",
       "      <td>0.0</td>\n",
       "      <td>1.000000</td>\n",
       "      <td>nan</td>\n",
       "      <td>0.0</td>\n",
       "    </tr>\n",
       "  </tbody>\n",
       "</table>\n",
       "</div>"
      ],
      "text/plain": [
       "  Code INSEE                  Communes APL aux médecins généralistes  \\\n",
       "0      01001  L' Abergement-Clémenciat                         2.305   \n",
       "1      01002    L' Abergement-de-Varey                         2.773   \n",
       "2      01004         Ambérieu-en-Bugey                         4.428   \n",
       "3      01005       Ambérieux-en-Dombes                         4.442   \n",
       "4      01006                   Ambléon                         1.084   \n",
       "\n",
       "   APL aux médecins généralistes de moins de 65 ans  \\\n",
       "0                                             2.021   \n",
       "1                                             2.683   \n",
       "2                                             4.325   \n",
       "3                                             4.442   \n",
       "4                                             0.936   \n",
       "\n",
       "   Population standardisée 2014 pour la médecine générale  \\\n",
       "0                                                765        \n",
       "1                                                235        \n",
       "2                                              13639        \n",
       "3                                               1571        \n",
       "4                                                119        \n",
       "\n",
       "                                      Nom d'exercice  \\\n",
       "0                                              [nan]   \n",
       "1                                              [nan]   \n",
       "2  ['ERRARD', 'CELLIER', 'BILLANDON', 'BELEY', 'G...   \n",
       "3                          ['PIGNARD', 'DURAFFOURG']   \n",
       "4                                              [nan]   \n",
       "\n",
       "  Distance au plus proche généraliste 2017  \\\n",
       "0                                        5   \n",
       "1                                        4   \n",
       "2                                        0   \n",
       "3                                        0   \n",
       "4                                       11   \n",
       "\n",
       "   Evolution du nbre de géné sur 5 ans 2017  APL 65 ans Standardisé  \\\n",
       "0                                       0.0                   2.021   \n",
       "1                                       0.0                   2.683   \n",
       "2                                      -1.0                   4.325   \n",
       "3                                       0.0                   4.442   \n",
       "4                                       0.0                   1.000   \n",
       "\n",
       "   inverse APL  Indice pop  Indice evolution     Score  \\\n",
       "0     0.494805         0.5               0.0  0.994805   \n",
       "1     0.372717         0.0               0.0  0.372717   \n",
       "2     0.231214         0.0               0.2  0.431214   \n",
       "3     0.225124         0.5               0.0  0.725124   \n",
       "4     1.000000         0.0               0.0  1.000000   \n",
       "\n",
       "                                           Pharmacie  Indice Ph isolée  \n",
       "0                                                nan               0.0  \n",
       "1                                                nan               0.0  \n",
       "2  ['PH. PASQUALINI (0474380226)', 'PH. VOLLENWEI...               0.0  \n",
       "3                ['PH. VINOIS-DOLIVET (0474008311)']               0.0  \n",
       "4                                                nan               0.0  "
      ]
     },
     "execution_count": 288,
     "metadata": {},
     "output_type": "execute_result"
    }
   ],
   "source": [
    "result_df.head(5)"
   ]
  },
  {
   "cell_type": "markdown",
   "metadata": {},
   "source": [
    "### Export du fichier en CSV"
   ]
  },
  {
   "cell_type": "code",
   "execution_count": 290,
   "metadata": {},
   "outputs": [],
   "source": [
    "result_df.to_csv('score_communes.csv', sep=',', encoding='utf-8', quotechar='\"', index=False, quoting=csv.QUOTE_ALL)"
   ]
  },
  {
   "cell_type": "code",
   "execution_count": null,
   "metadata": {},
   "outputs": [],
   "source": []
  }
 ],
 "metadata": {
  "kernelspec": {
   "display_name": "Python 3",
   "language": "python",
   "name": "python3"
  },
  "language_info": {
   "codemirror_mode": {
    "name": "ipython",
    "version": 3
   },
   "file_extension": ".py",
   "mimetype": "text/x-python",
   "name": "python",
   "nbconvert_exporter": "python",
   "pygments_lexer": "ipython3",
   "version": "3.7.3"
  }
 },
 "nbformat": 4,
 "nbformat_minor": 2
}
